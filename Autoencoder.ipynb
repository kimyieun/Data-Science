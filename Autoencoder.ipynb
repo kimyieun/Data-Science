{
 "cells": [
  {
   "cell_type": "code",
   "execution_count": 91,
   "metadata": {},
   "outputs": [
    {
     "data": {
      "text/plain": [
       "tensor([[0.0000e+00, 0.0000e+00, 0.0000e+00],\n",
       "        [1.0000e+00, 1.0000e+00, 1.0000e+00],\n",
       "        [2.0000e+00, 2.0000e+00, 2.0000e+00],\n",
       "        ...,\n",
       "        [9.9997e+04, 9.9997e+04, 9.9997e+04],\n",
       "        [9.9998e+04, 9.9998e+04, 9.9998e+04],\n",
       "        [9.9999e+04, 9.9999e+04, 9.9999e+04]])"
      ]
     },
     "execution_count": 91,
     "metadata": {},
     "output_type": "execute_result"
    }
   ],
   "source": [
    "import torch\n",
    "import torch.nn as nn\n",
    "import torch.nn.functional as F\n",
    "\n",
    "num = 100000;\n",
    "X = [[n, n, n] for n in range(num)];\n",
    "X = torch.tensor(X).float()\n",
    "X"
   ]
  },
  {
   "cell_type": "code",
   "execution_count": 87,
   "metadata": {},
   "outputs": [],
   "source": [
    "input_size = 3\n",
    "output_size = 3\n",
    "hidden_size = 2\n",
    "\n",
    "class Autoencoder(nn.Module):\n",
    "    def __init__(self, input_size, hidden_size, output_size):\n",
    "        super(Autoencoder, self).__init__()\n",
    "        self.encoder = nn.Linear(input_size, hidden_size)\n",
    "        self.latent = nn.Linear(hidden_size, 1)\n",
    "        self.decoder = nn.Linear(1, output_size)\n",
    "        \n",
    "    def forward(self, x):\n",
    "        x = F.relu(self.encoder(x))\n",
    "        x = self.latent(x)\n",
    "        out = self.decoder(F.relu(x))\n",
    "        return out"
   ]
  },
  {
   "cell_type": "code",
   "execution_count": null,
   "metadata": {},
   "outputs": [
    {
     "name": "stdout",
     "output_type": "stream",
     "text": [
      "tensor([[ 2.1594e-01,  9.3565e-01, -9.9603e-01],\n",
      "        [ 2.9439e-01,  1.0234e+00, -8.2282e-01],\n",
      "        [ 4.9649e-01,  1.2495e+00, -3.7656e-01],\n",
      "        ...,\n",
      "        [ 2.1001e+04,  2.3493e+04,  4.6370e+04],\n",
      "        [ 2.1001e+04,  2.3494e+04,  4.6370e+04],\n",
      "        [ 2.1001e+04,  2.3494e+04,  4.6371e+04]], grad_fn=<AddmmBackward>)\n",
      "1663305700.0\n",
      "tensor([[ 2.1594e-01,  9.3565e-01, -9.9603e-01],\n",
      "        [ 2.9439e-01,  1.0234e+00, -8.2282e-01],\n",
      "        [ 4.9649e-01,  1.2495e+00, -3.7656e-01],\n",
      "        ...,\n",
      "        [ 2.1001e+04,  2.3493e+04,  4.6370e+04],\n",
      "        [ 2.1001e+04,  2.3494e+04,  4.6370e+04],\n",
      "        [ 2.1001e+04,  2.3494e+04,  4.6371e+04]], grad_fn=<AddmmBackward>)\n",
      "1663305700.0\n"
     ]
    }
   ],
   "source": [
    "autoencoder = Autoencoder(input_size, hidden_size, output_size)\n",
    "\n",
    "loss_function = nn.MSELoss()\n",
    "optimizer = torch.optim.Adam(model.parameters(), lr=0.01)\n",
    "\n",
    "epoch = 10000\n",
    "for t in range(epoch):\n",
    "    optimizer.zero_grad()\n",
    "    output = autoencoder(X.float())\n",
    "    loss = loss_function(output, X.float())\n",
    "    loss.backward()\n",
    "    optimizer.step()\n",
    "    \n",
    "    if t % 1000 == 0:\n",
    "        print(output)\n",
    "        print(loss.data.numpy())"
   ]
  },
  {
   "cell_type": "code",
   "execution_count": null,
   "metadata": {},
   "outputs": [],
   "source": []
  }
 ],
 "metadata": {
  "kernelspec": {
   "display_name": "Python 3",
   "language": "python",
   "name": "python3"
  },
  "language_info": {
   "codemirror_mode": {
    "name": "ipython",
    "version": 3
   },
   "file_extension": ".py",
   "mimetype": "text/x-python",
   "name": "python",
   "nbconvert_exporter": "python",
   "pygments_lexer": "ipython3",
   "version": "3.7.3"
  }
 },
 "nbformat": 4,
 "nbformat_minor": 2
}
